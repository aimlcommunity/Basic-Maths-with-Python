{
 "cells": [
  {
   "cell_type": "markdown",
   "metadata": {},
   "source": [
    "I have come across a lot of Data Science enthusiasts who claim that we particularly do not need to learn Mathematics in detail as there are a lot of libraries and modules present in Python which help us to implement mathematical concepts with just a line of code! \n",
    "\n",
    "I do not deny this notion that yes, libraries can be helpful but at the end of the day, you need to understand what is going on behind the scenes so that if any error occurs, you can rectify it. At basic level, things involved are simple and these libraries will do just fine but as you move up the ladder and things start getting complicated, you will need to think of ways to get the job done! It may require a combination of libraries or require to create an algorithm of your own. For these very reasons, it is very important to understand Maths and Statistics. We have already covered Basic Statistics in our two-week module and shall move on to reading Maths in the next two modules. \n",
    "\n",
    "Maths for Data Science and Machine Learning is not about memorizing formulae (It is conducive if you do so), it is more about understanding how things work, how it happens and how to play around things. \n",
    "\n",
    "**Week 1 we will have a look at linear algebra, focussing on matrices and in week 2, we will see basics of calculas and how to do perform these operations in Python.**"
   ]
  },
  {
   "cell_type": "markdown",
   "metadata": {},
   "source": [
    "## Linear Algebra "
   ]
  },
  {
   "cell_type": "markdown",
   "metadata": {},
   "source": [
    "Linear algebra is the branch of mathematics concerning linear equations such as y= ax+b and their representations in vector spaces and through matrices. It is important for almost all the areas of Mathematics, Hence, we will be diving deep in the pool of linear algebra and see what comes out. Linear algebra is widely used in Science and engineering. Chances are high that you'd have read about matrices in your school or college Maths class. \n",
    "\n",
    "Before we begin, I am going to give you a few examples where linear algebra is used so that you are motivate denough to go through this module and learn as much things you can. The dataframes that you'd have made with the help of pandas, is a matrix with rows and columns. Images are nothing but matrices with rows and columns representing pixels of the picture and the color combination used. This is the particular reason why linear algebra is so important before you delve into computer vision and deep learning in particular. \n",
    "\n",
    "Linear regression is a very popular machine learning algorithm which involves usage of linear algebra. It is used to train simple models as well as impute missing values where there is a linear relationship between variables. I hope these examples are motivating enough to get you started on your journey to understanding Linear Algebra. "
   ]
  },
  {
   "cell_type": "markdown",
   "metadata": {},
   "source": [
    "### Some Mathematical objects"
   ]
  },
  {
   "cell_type": "markdown",
   "metadata": {},
   "source": [
    "Let us have a look at the common types of mathematical objects that will be used further in this week's module. \n",
    "\n",
    "**1. Scalars:** Scalar is simply a number which has some value. In simple terms, anything that has magnitude can be called as a scalar. It belongs to the set of real numbers and it can be either a real number or an integer. \n",
    "\n",
    "**2. Vector:** Vector is a mathematical object containing both magnitude and direction. It is an array of numbers which are arranged in an order and every individual element in the vector can be called by its index. It is represented as:\n",
    "\n",
    "$$\\begin{bmatrix} 1 \\\\ 3 \\\\ 0 \\\\2\\\\4\\\\7\\\\8 \\end{bmatrix}$$\n",
    "\n",
    "**3. Matrices:** A matrix is basically a 2-D array of numbers, so each element is identiﬁed by two indices instead of just one.  An example of matrix is as follows:\n",
    "\n",
    "$$\\begin{bmatrix} 1 & 2 & 1 \\\\ 3 & 0 & 1 \\\\ 0 & 2 & 4 \\end{bmatrix}$$\n",
    "\n",
    "If vectors were to be defined in terms of matrices, then vector is basically a one-dimensional matrix. A matrix is reprsented by a capital letter and its elements are accessed by specifying indices which will correspond to the row and column number. In the above matrix, A21 will be the element in the second row and third column which corresponds to 3. \n",
    "\n",
    "**4. Tensors:** A matrix is a 2D array of numbers. There may be requirements for an array of numbers with more than two dimensions, this is where tensor is of use. You would have come across the name \"tensor\" while reading about tensorflw which is an end-to-end open source platform for machine learning."
   ]
  },
  {
   "cell_type": "markdown",
   "metadata": {},
   "source": [
    "### Mathemical operations on matrices "
   ]
  },
  {
   "cell_type": "markdown",
   "metadata": {},
   "source": [
    "In the subsequent section, we will see different mathematical operations on matrices in their logic and their implementation in python. Numpy is a very useful library that can help with creating and manipulating matrices. We will learn the mathematics and the implementation in Python. \n",
    "\n",
    "#### Transpose of matrix\n",
    "\n",
    "Transpose of a matrix is essentially the mirror image of the matrix and the row element. In the above matrix that we saw above, the transpose of that will be:"
   ]
  },
  {
   "cell_type": "markdown",
   "metadata": {},
   "source": [
    "$$\\begin{bmatrix} 1 & 3 & 0 \\\\ 2 & 0 & 2 \\\\ 1 & 1 & 4 \\end{bmatrix}$$"
   ]
  },
  {
   "cell_type": "markdown",
   "metadata": {},
   "source": [
    "As you can see, the matrix has been transposed and A23 has become the element A12. Let us try creating a matrix and finding its transpose with the help of numpy. There is an array module in python that can be used to create matrices but the numpy library is made on array module and is more efficient, cleaner and faster way to execute your code.\n",
    "\n",
    "**Extra learning**: Using numpy reduces the exceution time instead of iterating over and over again which enhances the performance metrics of the model. This will be particularly helpful when you will be training some complex modules later in your machine learning journey. "
   ]
  },
  {
   "cell_type": "code",
   "execution_count": 20,
   "metadata": {},
   "outputs": [
    {
     "name": "stdout",
     "output_type": "stream",
     "text": [
      "[[1 2 1]\n",
      " [3 0 1]\n",
      " [0 2 4]]\n"
     ]
    }
   ],
   "source": [
    "import numpy as np\n",
    "A=np.array([[1,2,1],[3,0,1],[0,2,4]])\n",
    "print(A)"
   ]
  },
  {
   "cell_type": "code",
   "execution_count": 21,
   "metadata": {},
   "outputs": [
    {
     "data": {
      "text/plain": [
       "array([[1, 3, 0],\n",
       "       [2, 0, 2],\n",
       "       [1, 1, 4]])"
      ]
     },
     "execution_count": 21,
     "metadata": {},
     "output_type": "execute_result"
    }
   ],
   "source": [
    "A.T"
   ]
  },
  {
   "cell_type": "markdown",
   "metadata": {},
   "source": [
    "This is the transpose of the matrix as we had done manually above, this is the format we are going to use for rest of the module. We will first understand it mathematically and then do it with the help of  codes so that theory and its application can be seen consecutively. \n",
    "\n",
    "Let's find transpose of a vector. Vector is essentially a matrix with one column and its transpose will be a matrix with one row. "
   ]
  },
  {
   "cell_type": "code",
   "execution_count": 22,
   "metadata": {},
   "outputs": [
    {
     "name": "stdout",
     "output_type": "stream",
     "text": [
      "[[1]\n",
      " [2]\n",
      " [1]]\n"
     ]
    }
   ],
   "source": [
    "B=np.array([[1],[2],[1]])\n",
    "print(B)"
   ]
  },
  {
   "cell_type": "code",
   "execution_count": 23,
   "metadata": {},
   "outputs": [
    {
     "name": "stdout",
     "output_type": "stream",
     "text": [
      "[[1 2 1]]\n"
     ]
    }
   ],
   "source": [
    "print(B.T)"
   ]
  },
  {
   "cell_type": "markdown",
   "metadata": {},
   "source": [
    "#### Addition and subtraction of matrices\n",
    "\n",
    "Two matrcies can only be added if their shape is same, as in their number of rows and columns is same. The addition takes place by adding corresponding elements in the matrices. We can do this using numpy:"
   ]
  },
  {
   "cell_type": "code",
   "execution_count": 26,
   "metadata": {},
   "outputs": [
    {
     "name": "stdout",
     "output_type": "stream",
     "text": [
      "[[2 5 1]\n",
      " [5 0 3]\n",
      " [1 3 8]]\n"
     ]
    }
   ],
   "source": [
    "A=np.array([[1,2,1],[3,0,1],[0,2,4]])\n",
    "B=A.T\n",
    "print(A+B)"
   ]
  },
  {
   "cell_type": "code",
   "execution_count": 27,
   "metadata": {},
   "outputs": [
    {
     "name": "stdout",
     "output_type": "stream",
     "text": [
      "[[ 0 -1  1]\n",
      " [ 1  0 -1]\n",
      " [-1  1  0]]\n"
     ]
    }
   ],
   "source": [
    "print(A-B)"
   ]
  },
  {
   "cell_type": "markdown",
   "metadata": {},
   "source": [
    "The point to be noted while performing these operations is that the shape of the matrices being added and subtracted should be same. "
   ]
  },
  {
   "cell_type": "markdown",
   "metadata": {},
   "source": [
    "#### Multiplication of matrices\n",
    "\n",
    "One of the most important operations involving matrices is multiplication of two matrices. \n",
    "The matrix productof matrices D and E is a third matrix F. \n",
    "\n",
    "If the product is to hold valid, then D must have same number of columns as E has rows. If D is a (m x n) matrix, then E should be a (n x p). Let us understand the product with help of an example. "
   ]
  },
  {
   "cell_type": "code",
   "execution_count": 40,
   "metadata": {},
   "outputs": [
    {
     "data": {
      "text/plain": [
       "array([[ 0,  1,  2,  3],\n",
       "       [ 4,  5,  6,  7],\n",
       "       [ 8,  9, 10, 11]])"
      ]
     },
     "execution_count": 40,
     "metadata": {},
     "output_type": "execute_result"
    }
   ],
   "source": [
    "D=np.arange(12).reshape(3, 4)\n",
    "D"
   ]
  },
  {
   "cell_type": "code",
   "execution_count": 41,
   "metadata": {},
   "outputs": [
    {
     "data": {
      "text/plain": [
       "array([[ 9, 10],\n",
       "       [11, 12],\n",
       "       [13, 14],\n",
       "       [15, 16]])"
      ]
     },
     "execution_count": 41,
     "metadata": {},
     "output_type": "execute_result"
    }
   ],
   "source": [
    "E=np.arange(9,17).reshape(4,2)\n",
    "E"
   ]
  },
  {
   "cell_type": "markdown",
   "metadata": {},
   "source": [
    "Now we will have to find a matrix F which is the product of D and E. The shape of the F will be 3 x 2. \n",
    "The first element of F i.e. F(1,1) will be (0x9 + 1x11 + 2x13 + 3X15). Please take a moment to revisit the formula I have just written and write it on paper to understand it better. Now we will attempt at finding the product with python"
   ]
  },
  {
   "cell_type": "code",
   "execution_count": 46,
   "metadata": {},
   "outputs": [
    {
     "data": {
      "text/plain": [
       "array([[ 82,  88],\n",
       "       [274, 296],\n",
       "       [466, 504]])"
      ]
     },
     "execution_count": 46,
     "metadata": {},
     "output_type": "execute_result"
    }
   ],
   "source": [
    "F=np.matmul(D,E)\n",
    "F"
   ]
  },
  {
   "cell_type": "markdown",
   "metadata": {},
   "source": [
    "### Some properties of matrix multiplication\n",
    "\n",
    "**1. Matrix multiplication is distributive:** For three matrices A,B and C, A(B+C)=AB+AC\n",
    "\n",
    "**2. Matrix multiplication is associative:** For three matrices, A,B and C, A(BC)=(AB)C\n",
    "\n",
    "**3. Matrix multiplication is not commutative:** For two matrices, AB=BA does not hold true (some expections exist)\n",
    "\n",
    "Additionally, transpose of a matrix follows the following pattern:\n",
    "\n",
    "Transpose of (AB) is equal to transpose of B times transpose of A. I am attaching a picture below to show the transpose operation on the matrices. "
   ]
  },
  {
   "cell_type": "code",
   "execution_count": 48,
   "metadata": {},
   "outputs": [
    {
     "data": {
      "image/jpeg": "[encoded data removed]",
      "text/plain": [
       "<IPython.core.display.Image object>"
      ]
     },
     "execution_count": 48,
     "metadata": {},
     "output_type": "execute_result"
    }
   ],
   "source": [
    "from IPython.display import Image \n",
    "\n",
    "Image(r\"C:\\Users\\srtpa\\Desktop\\Matrices+-+Operations+Properties+of+transposed+matrices_.jpg\")"
   ]
  },
  {
   "cell_type": "markdown",
   "metadata": {},
   "source": [
    "### Identity and Inverse Matrices"
   ]
  },
  {
   "cell_type": "markdown",
   "metadata": {},
   "source": [
    "An **identity matrix** is a matrix that does not change any vector when wemultiply that vector by that matrix.It is represented as:\n",
    "\n",
    "$$\\begin{bmatrix} 1 & 0 & 0 \\\\ 0 & 1 & 0 \\\\ 0 & 0 & 1 \\end{bmatrix}$$\n",
    "\n",
    "Now when we have defined an identity matrix, it is easy to define inverse of matrix. Inverse of a matrix is a matrix that yields an identity matrix upon multiplying with the original matrix. Suppose matrix N was the inverse of M, then:\n",
    "\n",
    "NM=I (I is the identity matrix)\n",
    "\n",
    "**Note: Please take care of the order in which N and M appear.**\n",
    "\n",
    "Above, we have discussed matrix inverses as being multiplied on the left. It is also possible to deﬁne an inverse that is multiplied on the right: MN= I. \n",
    "\n",
    "For square matrices, the left inverse and right inverse are equal. Square matrices are the matrices with equal number of rows and columns. \n"
   ]
  },
  {
   "cell_type": "code",
   "execution_count": 52,
   "metadata": {},
   "outputs": [
    {
     "data": {
      "text/plain": [
       "array([[ 0.1,  0.3, -0.1],\n",
       "       [ 0.6, -0.2, -0.1],\n",
       "       [-0.3,  0.1,  0.3]])"
      ]
     },
     "execution_count": 52,
     "metadata": {},
     "output_type": "execute_result"
    }
   ],
   "source": [
    "import numpy as np\n",
    "A=np.array([[1,2,1],[3,0,1],[0,2,4]])\n",
    "inverse = np.linalg.inv(A)\n",
    "inverse"
   ]
  },
  {
   "attachments": {},
   "cell_type": "markdown",
   "metadata": {},
   "source": [
    "To do this in practice, I am sharing here a link which explains beautifully how to find inverse of a matrix. I wanted to explain this, but I limited by amount of expressions that I can include in the python notebook. Here is the link: https://www.mathsisfun.com/algebra/matrix-inverse-minors-cofactors-adjugate.html\n",
    "\n",
    "Try to do this exercise with a few other matrices and try to find out its inverse.\n",
    "\n",
    "I know this module is boring but to make it interesting, when you use rotation feature on your phone, it is all the matrix manipulations we just discussed above. With this, let us cover the last topic for this week, Eigen values and eigen vector. \n",
    "\n",
    "### Eigen vector\n",
    "\n",
    "Remember I told above that matrices are of great use while rotating photographs etc. One feature that you would have surely noticed is that when you warp any photo, one direction remains the same, which is the base of the photo usually. This is the Eigen Vector. An Eigen vector does not change direction while undergoing transformation. Since we have understood this, let us move on to the official definition of Eigen Vector.\n",
    "\n",
    "Eigen vector of a matrix A is a vector represented by a matrix X such that when X is multiplied with matrix A, then the direction of the resultant matrix remains same as vector X.\n",
    "\n",
    "Mathematically, above statement can be represented as:\n",
    "\n",
    "AX = λX\n",
    "\n",
    "Here, A is matrix we are utilizing for analysis and X is the Eigen Vector while λ is the Eigen value for the corresponding matrix. \n",
    "\n",
    "**Why should we find the Eigen value and Eigen vector?**\n",
    "\n",
    "So that we know while transforming any matrix, which is the corresponding vector that will stay the same. This helps to trace back the manipulations that we would have done on the original matrix. It is basically a direction that doesn't change direction while transforming. The eigen value inidcates the change in magnitude, for example, a value of 2 means double the size and 1 means no change. \n",
    "\n",
    "What follows below is a bit of Maths, so pick your pen and paper and follow along. \n",
    "\n",
    "We visit our former equation,\n",
    "\n",
    "AX=λX\n",
    "\n",
    "In this equation,we are technically comparing a matrix with a vector so we will add an identity matrix on the right side to be able to compare a matrix with a matrix. \n",
    "\n",
    "AX=λIX\n",
    "\n",
    "AX-λIX=0\n",
    "\n",
    "(A-λI)X=0\n",
    "\n",
    "Assuming that X is a non-zero vector, we can safely assume that:\n",
    "\n",
    "|A-λI|=0\n",
    "\n",
    "This equation can now be used to find λ and then the first equation, AX=λX can be used to find the Eigen vector. \n",
    "\n",
    "Let us understand this with an example, I will be using a 2x2 matrix for better understanding.\n",
    "\n",
    "$$\\begin{bmatrix} 1 & 3 \\\\ 2 & 0 \\end{bmatrix}$$\n",
    "\n",
    "The matrix above is A and I will be:\n",
    "\n",
    "$$\\begin{bmatrix} 1 & 0 \\\\ 0 & 1 \\end{bmatrix}$$"
   ]
  },
  {
   "cell_type": "markdown",
   "metadata": {},
   "source": [
    "We will putting all the values and \n",
    "\n",
    "$$\\begin{bmatrix} 1-λ & 3 \\\\ 2 & 0-λ \\end{bmatrix}$$"
   ]
  },
  {
   "cell_type": "markdown",
   "metadata": {},
   "source": [
    "Finding the determinant yields the equation:\n",
    "\n",
    "|(1-λ)(-λ)-(3)(2)|=0\n",
    "\n",
    "|λ^2-λ-6|=0\n",
    "\n",
    "Solving this equation, we get λ=-2 or 3. \n",
    "\n",
    "Now, this will be your homework to put 2 and 3 in the equation,\n",
    "\n",
    "AX=λX and find out the value of Eigen vector corresponding to the Eigen values. \n",
    "\n",
    "**Hint: Write the vector as**\n",
    "\n",
    "$$\\begin{bmatrix} x \\\\ y \\end{bmatrix}$$\n",
    "\n",
    "and then solve for x and y to get the Eigen vector X\n",
    "\n",
    "Finding Eigen values and vectors through Numpy involves just a couple of codes:"
   ]
  },
  {
   "cell_type": "code",
   "execution_count": 2,
   "metadata": {},
   "outputs": [
    {
     "name": "stdout",
     "output_type": "stream",
     "text": [
      "(array([ 3., -2.]), array([[ 0.83205029, -0.70710678],\n",
      "       [ 0.5547002 ,  0.70710678]]))\n"
     ]
    }
   ],
   "source": [
    "import numpy as np\n",
    "from numpy import linalg as LA\n",
    "A=np.array([[1,3],[2,0]])\n",
    "λ=LA.eig(A)\n",
    "print(λ)"
   ]
  },
  {
   "cell_type": "markdown",
   "metadata": {},
   "source": [
    "## Learn Numpy\n",
    "\n",
    "The linear algebra in Python is done majorly on numpy, so I have attched a guide on numpy in this week's module that also contains codes for practising what you have learnt before. \n",
    "\n",
    "Next week, we will see more about calculas! "
   ]
  }
 ],
 "metadata": {
  "kernelspec": {
   "display_name": "Python 3",
   "language": "python",
   "name": "python3"
  },
  "language_info": {
   "codemirror_mode": {
    "name": "ipython",
    "version": 3
   },
   "file_extension": ".py",
   "mimetype": "text/x-python",
   "name": "python",
   "nbconvert_exporter": "python",
   "pygments_lexer": "ipython3",
   "version": "3.7.4"
  }
 },
 "nbformat": 4,
 "nbformat_minor": 2
}
