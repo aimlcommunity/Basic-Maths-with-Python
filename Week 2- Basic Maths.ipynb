{
 "cells": [
  {
   "cell_type": "markdown",
   "metadata": {},
   "source": [
    "Hello everyone, I hope you all are following our maths and statistics module. Do share your feedback as you complete these modules. Last week, we had seen the basics of linear algebra which is primarily centred around matrices. This week, we will be discussing about calculas, vector calculas in particular. Vector calculus is one of the fundamental mathematical tools we need in machine learning. \n",
    "\n",
    "Let us start by defining what we are going to read in this week module. \n",
    "\n",
    "In very simple terms, **Calculus is a branch of mathematics that helps us understand changes between values that are related by a function. For example, if you had one formula telling how much money you got every day, calculus would help you understand related formulas like how much money you have in total, and whether you are getting more money or less than you used to.** This information can help you save money and invest it in the right place so that you reap benefits in the longer run. All these formulas are functions of time, and so that is one way to think of calculus — **studying functions of time.**\n",
    "\n",
    "There are two different types of calculus. Differential calculus divides things into small (different) pieces and tells us how they change from one moment to the next, while integral calculus joins (integrates) the small pieces together and tells us how much of something is made, overall, by a series of changes. This is the simplest definition of Calculas that explains what we are trying to do with calculas. It is a very important part of our analysis and optimization process, as well as while applying various different machine learning algorithms. I hope this will be an interesting module to follow. "
   ]
  },
  {
   "cell_type": "markdown",
   "metadata": {},
   "source": [
    "## Functions\n",
    "\n",
    "Function is a relation from a set of inputs to a set of possible outputs where each input is related to exactly one output.\n",
    "\n",
    "This means that if the object x is in the set of inputs (called the domain) then a function f will map the object x to exactly one object f(x) in the set of possible outputs (called the codomain).\n",
    "\n",
    "**For example**, f(x)=ax+b {linear function}\n",
    "f(x)=a$x^2$+bx+c {quadratic function}\n",
    "f(x)=logx {logarithmic function} \n",
    "\n",
    "After you have seen the examples, you can revisit the defintion above to get a better understanding of things. \n",
    "\n",
    "Normally taking a calculus course involves doing lots of tedious calculations by hand, but having the power of computers on your side can make the process much more fun. But that does not imply that you need not learn by pen and paper, you surely need to! \n",
    "\n",
    "## Derivative\n",
    "\n",
    "There are two ways in which derivative is defined:\n",
    "\n",
    "1. Instantaneous rate of change\n",
    "\n",
    "In it, let us suppose that a car is covering distance x over the time t, so we need to find how much distance it covers for every unit of t, since you are breaking up things, we can use derivative here writing it as dx/dt where d denotes the infinitesimal change in both x and y. This quantity is also knows as velocity of the car and you've guessed it right, this type of derivative is mainly used in Physics. \n",
    "\n",
    "2. Slope of a line at a specific point\n",
    "\n",
    "This is widely used in maths wherein derivative of a function at a point is termed as the slope of the function at that particular point. It is represented geometrically. Let us see this with an example:\n",
    "\n",
    "Let us first try to create a function, f(x)=2x+1, a linear function."
   ]
  },
  {
   "cell_type": "code",
   "execution_count": 2,
   "metadata": {},
   "outputs": [
    {
     "data": {
      "image/png": "[encoded data removed]",
      "text/plain": [
       "<Figure size 432x288 with 1 Axes>"
      ]
     },
     "metadata": {
      "needs_background": "light"
     },
     "output_type": "display_data"
    }
   ],
   "source": [
    "import matplotlib.pyplot as plt\n",
    "import numpy as np\n",
    "x = np.linspace(-5,5,100)\n",
    "y = 2*x+1\n",
    "plt.plot(x, y, '-r', label='y=2x+1')\n",
    "plt.title('Graph of y=2x+1')\n",
    "plt.xlabel('x', color='#1C2833')\n",
    "plt.ylabel('y', color='#1C2833')\n",
    "plt.legend(loc='upper left')\n",
    "plt.grid()\n",
    "plt.show()"
   ]
  },
  {
   "cell_type": "markdown",
   "metadata": {},
   "source": [
    "This is shown on a grid and suppose, we were to find the derivative of f(x) between 2 to 4, then the slope will be:\n",
    "change in y or f(x)/change in x \n",
    "\n",
    "As you can infer from the figure, \n",
    "3.9/2 which is approximately equal to 2 and it is the slope of the function f(x)=2x+1\n",
    "\n",
    "Now, this was a very simple example and we can look at the figure and tell the slope by simple calculation. If the functions become more complex, we need to use differentiation methods to find out the derivative of the function. We will have to understand a bit about limits before we proceed further. Let us have a look at a simple example:\n",
    "\n",
    "$$f'(x) = \\lim_{x \\to a} \\frac{f(x) - f(a)}{x-a}$$\n",
    "\n",
    "f'(x) is the derivative of the f(x) let us understand what this entire function is all about. If we will replace x by a, we will get 0/0 which is an undefined value in Maths. The solution is to use x that is approaching a, not eaxctly by appraoching x, this way we will not get 0/0 and would get the derivatives. This is the method by which we will try to find out the derivatives. Let us take the above example, f(x)=2x+3.\n",
    "\n",
    "Incrementing by a small value, h (a-x): {you can assume h to be as small as you like, h=0.0000000000001 even}\n",
    "\n",
    "f(x+h)=2(x+h)+3\n",
    "\n",
    "Applying the slope formula:\n",
    "\n",
    "f(x+h) - f(x)/h\n",
    "\n",
    "= 2(x+h)+3-2x-3/h\n",
    "\n",
    "= 2x+2h+3-2x-3/h\n",
    "\n",
    "= 2\n",
    "\n",
    "We get the slope as 2! \n"
   ]
  },
  {
   "cell_type": "code",
   "execution_count": 6,
   "metadata": {},
   "outputs": [],
   "source": [
    "def get_derivative(func, x):\n",
    "    h = 0.0001\n",
    "    return (func(x+h) - func(x)) / h "
   ]
  },
  {
   "cell_type": "markdown",
   "metadata": {},
   "source": [
    "You can input the f(x) to find the slop/derivative. \n",
    "\n",
    "**Machine learning** uses derivatives in optimization problems. Optimization algorithms like gradient descent use derivatives to decide whether to increase or decrease weights in order to maximize or minimize some objective. It can be used to increase model's accuracy or reduce the error of a function. Derivatives also help us approximate nonlinear functions as linear functions (tangent lines), which have constant slopes. With a constant slope we can decide whether to move up or down the slope to get closer to the target value. You will realize more of its importance as you do solve more and more machine learning problems. \n",
    "\n",
    "## Chain rule\n",
    "\n",
    "This is a very important method of finding derivatives of complex function which could be non-linear or multi-linear. They are also useful for forward and backward propagation while doing a neural network problem. \n",
    "\n",
    "For a composite function, \n",
    "\n",
    "f(x)=a(b(x))\n",
    "\n",
    "To find the derivative of f(x), we need to find derivative of b(x) with respect to x and then the derivative of B with respect to x. \n",
    "\n",
    "In other words,\n",
    "\n",
    "$\\frac{df}{dx}=\\frac{da}{db} . \\frac{db}{dx}$\n",
    "\n",
    "## Partial derivative\n",
    "\n",
    "What we read above is total derivative where all the functions are treated differentiable with respect to x, we will now read about partial derivative  partial derivative of a function of several variables is its derivative with respect to one of those variables, with the others held constant. This will help us dive deeper in vactor calculas in general and gradient descent in particular. I will just explain with an example:\n",
    "\n",
    "f(x)=$x^3$ + 2y\n",
    "\n",
    "If we were to find the partial derivative of f(x) with respect to x, then:\n",
    "\n",
    "f'(x)=3$x^2$ + 2y \n",
    "\n",
    "y will be treated as a constant. Only x will be differentiated. \n",
    "\n",
    "## Integrals \n",
    "\n",
    "We have discussed the basics of derivatives, now we will be seeing integrals in the next section, it is also an important element of calculas. Integration, in english, means to join. It is the opposite of differentiation. When we find integral of a function f(x) with respect to x, it is area under the curve. Sometimes, the limits of integration is defined, other times, it is not defined. Let us look at an example:\n",
    "\n",
    "y= $\\int_a^b$ f(x) dx\n",
    "\n",
    "If you notice clearly, the dx element was dividing the function in case of differentiation and is with the function in case of integration. What is y? It is the area under the curve f(x). "
   ]
  },
  {
   "cell_type": "code",
   "execution_count": 9,
   "metadata": {},
   "outputs": [
    {
     "data": {
      "image/png": "[encoded data removed]",
      "text/plain": [
       "<IPython.core.display.Image object>"
      ]
     },
     "execution_count": 9,
     "metadata": {},
     "output_type": "execute_result"
    }
   ],
   "source": [
    "from IPython.display import Image \n",
    "\n",
    "Image(r\"C:\\Users\\srtpa\\Desktop\\area-under-curve-integral.png\")"
   ]
  },
  {
   "cell_type": "markdown",
   "metadata": {},
   "source": [
    "This is what the integral represents. Let us try to find the integration of an example f(x)=2x+3 as we did with derivative. Let us try to integrate from 2 to 4 which will correspond to the area under the curve within those limits. \n",
    "\n",
    "f(x)=2x+3\n",
    "\n",
    "A(f(x)= $\\int_2^4$ f(x) dx\n",
    "\n",
    "A(f(x))= $\\int_2^4$ (2x+3) dx\n",
    "\n",
    "A(f(x))= 2*$x^2$/2 + 3x within range 2 to 4 \n",
    "\n",
    "Now we will find A which will the area under f(x) from x =4 minus the area under f(x) from 2\n",
    "\n",
    "A= (16+12)-(4+6)\n",
    "A= 18 sq units \n",
    "\n",
    "\n",
    "## Application of integration in Machine Learning\n",
    "\n",
    "We had enough of theories, now let us have a look at the application of integration in Machine Learning. \n",
    "\n",
    "#### Probability\n",
    "\n",
    "If you have followed up our Statistics module, you would have seen that we had defined a random variable and a probability density function p(x). Total area under the curve is 1 and would be represented as:\n",
    "\n",
    "$\\int_a^b$ p(x) dx = 1\n",
    "\n",
    "a and b are minus infinity and +inifinity respectiely. Similarly, expected value and variance can also be calculated by integrating the respective functions. "
   ]
  },
  {
   "cell_type": "markdown",
   "metadata": {},
   "source": [
    "This is where we end our Basic Maths and Statistics module  comes to an end. Glad you followed along. On top of this, you can learn advanced Mathematics by reading various books available on the subject matter. \n",
    "\n",
    "Thank you for following with us! "
   ]
  }
 ],
 "metadata": {
  "kernelspec": {
   "display_name": "Python 3",
   "language": "python",
   "name": "python3"
  },
  "language_info": {
   "codemirror_mode": {
    "name": "ipython",
    "version": 3
   },
   "file_extension": ".py",
   "mimetype": "text/x-python",
   "name": "python",
   "nbconvert_exporter": "python",
   "pygments_lexer": "ipython3",
   "version": "3.7.4"
  }
 },
 "nbformat": 4,
 "nbformat_minor": 2
}
